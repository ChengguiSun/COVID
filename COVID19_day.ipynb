{
  "nbformat": 4,
  "nbformat_minor": 0,
  "metadata": {
    "kernelspec": {
      "display_name": "Python 3",
      "language": "python",
      "name": "python3"
    },
    "language_info": {
      "codemirror_mode": {
        "name": "ipython",
        "version": 3
      },
      "file_extension": ".py",
      "mimetype": "text/x-python",
      "name": "python",
      "nbconvert_exporter": "python",
      "pygments_lexer": "ipython3",
      "version": "3.7.6"
    },
    "colab": {
      "name": "COVID19 - day.ipynb",
      "provenance": [],
      "collapsed_sections": []
    }
  },
  "cells": [
    {
      "cell_type": "code",
      "metadata": {
        "id": "QNSCyaIIeOIO",
        "colab_type": "code",
        "colab": {}
      },
      "source": [
        "import pandas as pd"
      ],
      "execution_count": null,
      "outputs": []
    },
    {
      "cell_type": "code",
      "metadata": {
        "id": "GvkTCI0reOIU",
        "colab_type": "code",
        "colab": {}
      },
      "source": [
        "path = \"F:\\COVID19\\COVID19.csv\"\n",
        "df_co = pd.read_csv(path)\n",
        "df_co"
      ],
      "execution_count": null,
      "outputs": []
    },
    {
      "cell_type": "code",
      "metadata": {
        "id": "haks7gRzeOIY",
        "colab_type": "code",
        "colab": {}
      },
      "source": [
        "df_re = df_co.rename(columns = {'dateRep':'date', 'Cumulative_number_for_14_days_of_COVID-19_cases_per_100000':'cases_per_100000'})\n",
        "df_re"
      ],
      "execution_count": null,
      "outputs": []
    },
    {
      "cell_type": "code",
      "metadata": {
        "id": "Zmd-FhvpeOIb",
        "colab_type": "code",
        "colab": {}
      },
      "source": [
        "df_drop = df_re.drop(['day','month', 'year','countryterritoryCode', 'geoId', 'popData2019', 'continentExp', 'cases_per_100000'], axis = 1)\n",
        "df_drop"
      ],
      "execution_count": null,
      "outputs": []
    },
    {
      "cell_type": "code",
      "metadata": {
        "id": "BPMnvu4LeOIf",
        "colab_type": "code",
        "colab": {}
      },
      "source": [
        "df_drop.info()"
      ],
      "execution_count": null,
      "outputs": []
    },
    {
      "cell_type": "code",
      "metadata": {
        "id": "K0-JNKHjeOIl",
        "colab_type": "code",
        "colab": {}
      },
      "source": [
        "df_drop.describe()"
      ],
      "execution_count": null,
      "outputs": []
    },
    {
      "cell_type": "code",
      "metadata": {
        "id": "cBcteRxaeOIo",
        "colab_type": "code",
        "colab": {}
      },
      "source": [
        "df_drop.isnull().sum().sum()"
      ],
      "execution_count": null,
      "outputs": []
    },
    {
      "cell_type": "code",
      "metadata": {
        "id": "5DFmIEUteOIt",
        "colab_type": "code",
        "colab": {}
      },
      "source": [
        "# replace negative numbers\n",
        "num = df_drop._get_numeric_data()\n",
        "num[num < 0] = 0\n",
        "df_drop"
      ],
      "execution_count": null,
      "outputs": []
    },
    {
      "cell_type": "code",
      "metadata": {
        "id": "g0MrNjQKeOI1",
        "colab_type": "code",
        "colab": {}
      },
      "source": [
        "df_drop.describe()"
      ],
      "execution_count": null,
      "outputs": []
    },
    {
      "cell_type": "code",
      "metadata": {
        "id": "C85kQZtteOI6",
        "colab_type": "code",
        "colab": {}
      },
      "source": [
        "from datetime import datetime\n",
        "df_drop['date'] = pd.to_datetime(df_drop['date'], format = '%d/%m/%Y')\n",
        "covid19 = df_drop\n",
        "covid19"
      ],
      "execution_count": null,
      "outputs": []
    },
    {
      "cell_type": "code",
      "metadata": {
        "id": "SiaiUrRyeOI-",
        "colab_type": "code",
        "colab": {}
      },
      "source": [
        "covid19_day = covid19.groupby(['date','countriesAndTerritories'], as_index = False).sum()\n",
        "covid19_day"
      ],
      "execution_count": null,
      "outputs": []
    },
    {
      "cell_type": "code",
      "metadata": {
        "id": "IlQfHShteOJB",
        "colab_type": "code",
        "colab": {}
      },
      "source": [
        "covid19_cases = covid19_day.drop(['deaths'], axis = 1)\n",
        "covid19_cases"
      ],
      "execution_count": null,
      "outputs": []
    },
    {
      "cell_type": "code",
      "metadata": {
        "id": "GoK9Abv0eOJK",
        "colab_type": "code",
        "colab": {}
      },
      "source": [
        "covid19_deaths = covid19_day.drop(['cases'], axis = 1)\n",
        "covid19_deaths"
      ],
      "execution_count": null,
      "outputs": []
    },
    {
      "cell_type": "code",
      "metadata": {
        "id": "gYp8jNLpeOJP",
        "colab_type": "code",
        "colab": {}
      },
      "source": [
        "covid19_cpiv = covid19_cases.pivot(index= 'date', columns = 'countriesAndTerritories', values = 'cases')\n",
        "covid19_cpiv"
      ],
      "execution_count": null,
      "outputs": []
    },
    {
      "cell_type": "code",
      "metadata": {
        "id": "rYo2H1kteOJc",
        "colab_type": "code",
        "colab": {}
      },
      "source": [
        "covid19_cpiv.columns = covid19_cpiv.columns.str.replace('_','')"
      ],
      "execution_count": null,
      "outputs": []
    },
    {
      "cell_type": "code",
      "metadata": {
        "id": "w4NmtYVEeOJi",
        "colab_type": "code",
        "colab": {}
      },
      "source": [
        "covid19_cpiv.rename(columns = {'SouthKorean':'South Korean', 'SouthAfrica':'South Africa'})"
      ],
      "execution_count": null,
      "outputs": []
    },
    {
      "cell_type": "code",
      "metadata": {
        "id": "0MFmXvQ_eOJn",
        "colab_type": "code",
        "colab": {}
      },
      "source": [
        "covid19_cpiv7 = covid19_cpiv.drop(['CasesonaninternationalconveyanceJapan'], axis = 1)\n",
        "covid19_cpiv7"
      ],
      "execution_count": null,
      "outputs": []
    },
    {
      "cell_type": "code",
      "metadata": {
        "id": "4UBjvNGEeOJq",
        "colab_type": "code",
        "colab": {}
      },
      "source": [
        "covid19_cpiv7.isnull().sum().sum()"
      ],
      "execution_count": null,
      "outputs": []
    },
    {
      "cell_type": "code",
      "metadata": {
        "id": "eFNDR6JEeOJv",
        "colab_type": "code",
        "colab": {}
      },
      "source": [
        "import numpy as np\n",
        "covid19_cpiv7[np.isnan(covid19_cpiv)] = 0\n",
        "covid19_cpiv7"
      ],
      "execution_count": null,
      "outputs": []
    },
    {
      "cell_type": "code",
      "metadata": {
        "id": "hlpE9WQneOJ9",
        "colab_type": "code",
        "colab": {}
      },
      "source": [
        "covid19_case_csum = covid19_cpiv7.cumsum(axis = 0)\n",
        "covid19_case_csum"
      ],
      "execution_count": null,
      "outputs": []
    },
    {
      "cell_type": "code",
      "metadata": {
        "id": "t2Qw_3vxeOKA",
        "colab_type": "code",
        "colab": {}
      },
      "source": [
        "covid19_case_csum.to_csv('covid19_case_csum')"
      ],
      "execution_count": null,
      "outputs": []
    },
    {
      "cell_type": "code",
      "metadata": {
        "id": "IP2_qTaHeOKK",
        "colab_type": "code",
        "colab": {}
      },
      "source": [
        "covid19_dpiv = covid19_deaths.pivot(index= 'date', columns = 'countriesAndTerritories', values = 'deaths')\n",
        "covid19_dpiv"
      ],
      "execution_count": null,
      "outputs": []
    },
    {
      "cell_type": "code",
      "metadata": {
        "id": "ek8TF3UzeOKd",
        "colab_type": "code",
        "colab": {}
      },
      "source": [
        "covid19_dpiv.columns = covid19_dpiv.columns.str.replace('_','')"
      ],
      "execution_count": null,
      "outputs": []
    },
    {
      "cell_type": "code",
      "metadata": {
        "id": "Q6v_uN85eOKl",
        "colab_type": "code",
        "colab": {}
      },
      "source": [
        "covid19_dpiv.rename(columns = {'SouthKorean':'South Korean', 'SouthAfrica':'South Africa'})"
      ],
      "execution_count": null,
      "outputs": []
    },
    {
      "cell_type": "code",
      "metadata": {
        "id": "tiw7Sub8eOKu",
        "colab_type": "code",
        "colab": {}
      },
      "source": [
        "covid19_dpiv7 = covid19_dpiv.drop(['CasesonaninternationalconveyanceJapan'], axis = 1)\n",
        "covid19_dpiv7"
      ],
      "execution_count": null,
      "outputs": []
    },
    {
      "cell_type": "code",
      "metadata": {
        "id": "xvnDv0keeOKx",
        "colab_type": "code",
        "colab": {}
      },
      "source": [
        "covid19_dpiv7.isnull().sum().sum()"
      ],
      "execution_count": null,
      "outputs": []
    },
    {
      "cell_type": "code",
      "metadata": {
        "id": "80LK2i1XeOKz",
        "colab_type": "code",
        "colab": {}
      },
      "source": [
        "import numpy as np\n",
        "covid19_dpiv7[np.isnan(covid19_dpiv)] = 0\n",
        "covid19_dpiv7"
      ],
      "execution_count": null,
      "outputs": []
    },
    {
      "cell_type": "code",
      "metadata": {
        "id": "uMcN1xK5eOK_",
        "colab_type": "code",
        "colab": {}
      },
      "source": [
        "covid19_deaths_csum = covid19_dpiv7.cumsum(axis = 0)\n",
        "covid19_deaths_csum"
      ],
      "execution_count": null,
      "outputs": []
    },
    {
      "cell_type": "code",
      "metadata": {
        "id": "N_nEF_cfeOLB",
        "colab_type": "code",
        "colab": {}
      },
      "source": [
        "covid19_deaths_csum.to_csv('covid19_deaths_csum')"
      ],
      "execution_count": null,
      "outputs": []
    },
    {
      "cell_type": "code",
      "metadata": {
        "scrolled": true,
        "id": "PQVue8lveOLD",
        "colab_type": "code",
        "colab": {}
      },
      "source": [
        "pip install bar_chart_race"
      ],
      "execution_count": null,
      "outputs": []
    },
    {
      "cell_type": "code",
      "metadata": {
        "id": "-oSk8W35eOLF",
        "colab_type": "code",
        "colab": {}
      },
      "source": [
        "import bar_chart_race as bcr\n",
        "bcr.bar_chart_race(covid19_deaths_csum, 'F:/COVID19/covid19-dailydeath.mp4', n_bars=10, steps_per_period=500, period_length=500,\n",
        "                   figsize=(5, 3))"
      ],
      "execution_count": null,
      "outputs": []
    },
    {
      "cell_type": "code",
      "metadata": {
        "id": "cEzVkKTJeOLO",
        "colab_type": "code",
        "colab": {}
      },
      "source": [
        "import bar_chart_race as bcr\n",
        "bcr.bar_chart_race(covid19_case_csum, 'F:/COVID19/covid19-cases.mp4', n_bars=10, steps_per_period=500, period_length=500,\n",
        "                   figsize=(5, 3))"
      ],
      "execution_count": null,
      "outputs": []
    },
    {
      "cell_type": "code",
      "metadata": {
        "id": "FapNED1_eOLR",
        "colab_type": "code",
        "colab": {}
      },
      "source": [
        ""
      ],
      "execution_count": null,
      "outputs": []
    }
  ]
}