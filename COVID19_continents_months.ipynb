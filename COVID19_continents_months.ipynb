{
  "nbformat": 4,
  "nbformat_minor": 0,
  "metadata": {
    "kernelspec": {
      "display_name": "Python 3",
      "language": "python",
      "name": "python3"
    },
    "language_info": {
      "codemirror_mode": {
        "name": "ipython",
        "version": 3
      },
      "file_extension": ".py",
      "mimetype": "text/x-python",
      "name": "python",
      "nbconvert_exporter": "python",
      "pygments_lexer": "ipython3",
      "version": "3.7.6"
    },
    "colab": {
      "name": "COVID19-continents-months.ipynb",
      "provenance": [],
      "collapsed_sections": []
    }
  },
  "cells": [
    {
      "cell_type": "code",
      "metadata": {
        "id": "26M7kIoTeTRk",
        "colab_type": "code",
        "colab": {}
      },
      "source": [
        "import pandas as pd"
      ],
      "execution_count": null,
      "outputs": []
    },
    {
      "cell_type": "code",
      "metadata": {
        "id": "5k2GSYtVeTRq",
        "colab_type": "code",
        "colab": {}
      },
      "source": [
        "path = \"F:\\COVID19\\COVID19.csv\"\n",
        "df_co = pd.read_csv(path)\n",
        "df_co"
      ],
      "execution_count": null,
      "outputs": []
    },
    {
      "cell_type": "code",
      "metadata": {
        "id": "C8qjVg6aeTRv",
        "colab_type": "code",
        "colab": {}
      },
      "source": [
        "df_re = df_co.rename(columns = {'dateRep':'date', 'Cumulative_number_for_14_days_of_COVID-19_cases_per_100000':'cases_per_100000'})\n",
        "df_re"
      ],
      "execution_count": null,
      "outputs": []
    },
    {
      "cell_type": "code",
      "metadata": {
        "id": "gaq1bHA6eTR1",
        "colab_type": "code",
        "colab": {}
      },
      "source": [
        "df_drop = df_re.drop(['day','month', 'year','countryterritoryCode', 'geoId', 'popData2019', 'countriesAndTerritories', 'cases_per_100000'], axis = 1)\n",
        "df_drop"
      ],
      "execution_count": null,
      "outputs": []
    },
    {
      "cell_type": "code",
      "metadata": {
        "id": "o69zeLzBeTR5",
        "colab_type": "code",
        "colab": {}
      },
      "source": [
        "df_drop.info()"
      ],
      "execution_count": null,
      "outputs": []
    },
    {
      "cell_type": "code",
      "metadata": {
        "id": "M9hlbKPmeTR9",
        "colab_type": "code",
        "colab": {}
      },
      "source": [
        "df_drop.describe()"
      ],
      "execution_count": null,
      "outputs": []
    },
    {
      "cell_type": "code",
      "metadata": {
        "id": "dqRjZNt9eTSB",
        "colab_type": "code",
        "colab": {}
      },
      "source": [
        "df_drop.isnull().sum().sum()"
      ],
      "execution_count": null,
      "outputs": []
    },
    {
      "cell_type": "code",
      "metadata": {
        "id": "csZTfygYeTSH",
        "colab_type": "code",
        "colab": {}
      },
      "source": [
        "# replace negative numbers\n",
        "num = df_drop._get_numeric_data()\n",
        "num[num < 0] = 0\n",
        "df_drop"
      ],
      "execution_count": null,
      "outputs": []
    },
    {
      "cell_type": "code",
      "metadata": {
        "id": "bOR4YIRBeTSM",
        "colab_type": "code",
        "colab": {}
      },
      "source": [
        "df_drop.describe()"
      ],
      "execution_count": null,
      "outputs": []
    },
    {
      "cell_type": "code",
      "metadata": {
        "id": "xix85oneeTSP",
        "colab_type": "code",
        "colab": {}
      },
      "source": [
        "from datetime import datetime\n",
        "df_drop['date'] = pd.to_datetime(df_drop['date'], format = '%d/%m/%Y').apply(lambda x: x.strftime('%Y-%m'))\n",
        "covid19 = df_drop\n",
        "covid19"
      ],
      "execution_count": null,
      "outputs": []
    },
    {
      "cell_type": "code",
      "metadata": {
        "id": "4MWxwIZGeTSS",
        "colab_type": "code",
        "colab": {}
      },
      "source": [
        "covid19_month = covid19.groupby(['date','continentExp'], as_index = False).sum()\n",
        "covid19_month"
      ],
      "execution_count": null,
      "outputs": []
    },
    {
      "cell_type": "code",
      "metadata": {
        "id": "fAUgkRWneTSY",
        "colab_type": "code",
        "colab": {}
      },
      "source": [
        "covid19_cases = covid19_month.drop(['deaths'], axis = 1)\n",
        "covid19_cases"
      ],
      "execution_count": null,
      "outputs": []
    },
    {
      "cell_type": "code",
      "metadata": {
        "id": "XB7o_IZZeTSb",
        "colab_type": "code",
        "colab": {}
      },
      "source": [
        "covid19_deaths = covid19_month.drop(['cases'], axis = 1)\n",
        "covid19_deaths"
      ],
      "execution_count": null,
      "outputs": []
    },
    {
      "cell_type": "code",
      "metadata": {
        "id": "7tx4pkJ2eTSe",
        "colab_type": "code",
        "colab": {}
      },
      "source": [
        "covid19_cpiv = covid19_cases.pivot(index= 'date', columns = 'continentExp', values = 'cases')\n",
        "covid19_cpiv"
      ],
      "execution_count": null,
      "outputs": []
    },
    {
      "cell_type": "code",
      "metadata": {
        "id": "3gAJxqUEeTSg",
        "colab_type": "code",
        "colab": {}
      },
      "source": [
        "covid19_cpiv.isnull().sum().sum()"
      ],
      "execution_count": null,
      "outputs": []
    },
    {
      "cell_type": "code",
      "metadata": {
        "id": "O22pOQ_neTSk",
        "colab_type": "code",
        "colab": {}
      },
      "source": [
        "import numpy as np\n",
        "covid19_cpiv[np.isnan(covid19_cpiv)] = 0\n",
        "covid19_cpiv"
      ],
      "execution_count": null,
      "outputs": []
    },
    {
      "cell_type": "code",
      "metadata": {
        "id": "lAwLFmEjeTSq",
        "colab_type": "code",
        "colab": {}
      },
      "source": [
        "covid19_cpiv7 = covid19_cpiv.drop(covid19_cpiv.index[8])"
      ],
      "execution_count": null,
      "outputs": []
    },
    {
      "cell_type": "code",
      "metadata": {
        "id": "EH7N_UYheTSv",
        "colab_type": "code",
        "colab": {}
      },
      "source": [
        "covid19_case_csum = covid19_cpiv7.cumsum(axis = 0)\n",
        "covid19_case_csum"
      ],
      "execution_count": null,
      "outputs": []
    },
    {
      "cell_type": "code",
      "metadata": {
        "id": "-ZNO9GKWeTS1",
        "colab_type": "code",
        "colab": {}
      },
      "source": [
        "covid19_case_csum.to_csv('covid19_case_csum')"
      ],
      "execution_count": null,
      "outputs": []
    },
    {
      "cell_type": "code",
      "metadata": {
        "id": "fKMqjuoheTS8",
        "colab_type": "code",
        "colab": {}
      },
      "source": [
        "covid19_dpiv = covid19_deaths.pivot(index= 'date', columns = 'continentExp', values = 'deaths')\n",
        "covid19_dpiv"
      ],
      "execution_count": null,
      "outputs": []
    },
    {
      "cell_type": "code",
      "metadata": {
        "id": "89NZZNUeeTS_",
        "colab_type": "code",
        "colab": {}
      },
      "source": [
        "covid19_dpiv7 = covid19_dpiv.drop(covid19_dpiv.index[8])"
      ],
      "execution_count": null,
      "outputs": []
    },
    {
      "cell_type": "code",
      "metadata": {
        "id": "Ro_k1JhweTTB",
        "colab_type": "code",
        "colab": {}
      },
      "source": [
        "covid19_dpiv7.isnull().sum().sum()"
      ],
      "execution_count": null,
      "outputs": []
    },
    {
      "cell_type": "code",
      "metadata": {
        "id": "xVDpqwUZeTTF",
        "colab_type": "code",
        "colab": {}
      },
      "source": [
        "import numpy as np\n",
        "covid19_dpiv7[np.isnan(covid19_dpiv7)] = 0\n",
        "covid19_dpiv7"
      ],
      "execution_count": null,
      "outputs": []
    },
    {
      "cell_type": "code",
      "metadata": {
        "id": "_GVi_nIfeTTK",
        "colab_type": "code",
        "colab": {}
      },
      "source": [
        "covid19_deaths_csum = covid19_dpiv7.cumsum(axis = 0)\n",
        "covid19_deaths_csum"
      ],
      "execution_count": null,
      "outputs": []
    },
    {
      "cell_type": "code",
      "metadata": {
        "id": "d6EjPZSFeTTQ",
        "colab_type": "code",
        "colab": {}
      },
      "source": [
        "covid19_deaths_csum"
      ],
      "execution_count": null,
      "outputs": []
    },
    {
      "cell_type": "code",
      "metadata": {
        "id": "ZrHSOIZceTTa",
        "colab_type": "code",
        "colab": {}
      },
      "source": [
        "covid19_deaths_csum.to_csv('covid19_deaths_csum')"
      ],
      "execution_count": null,
      "outputs": []
    },
    {
      "cell_type": "code",
      "metadata": {
        "id": "4V0ZMRQmeTTg",
        "colab_type": "code",
        "colab": {}
      },
      "source": [
        "pip install bar_chart_race"
      ],
      "execution_count": null,
      "outputs": []
    },
    {
      "cell_type": "code",
      "metadata": {
        "id": "8ZrzVakjeTTj",
        "colab_type": "code",
        "colab": {}
      },
      "source": [
        "import bar_chart_race as bcr\n",
        "bcr.bar_chart_race(covid19_case_csum, n_bars=6, steps_per_period=2000, period_length=2000)"
      ],
      "execution_count": null,
      "outputs": []
    },
    {
      "cell_type": "code",
      "metadata": {
        "id": "s_Dg_qMxeTT6",
        "colab_type": "code",
        "colab": {}
      },
      "source": [
        "import bar_chart_race as bcr\n",
        "bcr.bar_chart_race(covid19_deaths_csum, n_bars=6, steps_per_period=2000, period_length=2000)"
      ],
      "execution_count": null,
      "outputs": []
    }
  ]
}